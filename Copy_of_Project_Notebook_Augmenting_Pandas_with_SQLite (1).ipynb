{
  "nbformat": 4,
  "nbformat_minor": 0,
  "metadata": {
    "colab": {
      "provenance": []
    },
    "kernelspec": {
      "name": "python3",
      "display_name": "Python 3"
    },
    "language_info": {
      "name": "python"
    }
  },
  "cells": [
    {
      "cell_type": "markdown",
      "metadata": {
        "id": "2ZK7M8-wZ_J8"
      },
      "source": [
        "# Project Notebook: Augmenting Pandas with SQLite"
      ]
    },
    {
      "cell_type": "markdown",
      "metadata": {
        "id": "qadTA4HuceEl"
      },
      "source": [
        "## Question 1: Introduction"
      ]
    },
    {
      "cell_type": "markdown",
      "metadata": {
        "id": "aF9k8rixclSR"
      },
      "source": [
        "In this session, we explored a few different ways to work with larger datasets in pandas. In this guided project, we'll practice using some of the techniques we learned to analyze startup investments from Crunchbase.com.\n",
        "\n",
        "Every year, thousands of startup companies raise financing from investors. Each time a startup raises money, we refer to the event as a fundraising round. Crunchbase is a website that crowdsources information on the fundraising rounds of many startups. The Crunchbase user community submits, edits, and maintains most of the information in Crunchbase.\n",
        "\n",
        "In return, Crunchbase makes the data available through a Web application and a fee-based API. Before Crunchbase switched to the paid API model, multiple groups crawled the site and released the data online. Because the information on the startups and their fundraising rounds is always changing, the data set we'll be using isn't completely up to date.\n",
        "\n",
        "Throughout this project, we'll practice working with different memory constraints. In this step, let's assume we only have 10 megabytes of available memory. While crunchbase-investments.csv (https://bit.ly/3BPcobU) consumes 10.3 megabytes of disk space, we know from earlier lessons that pandas often requires 4 to 6 times amount of space in memory as the file does on disk (especially when there's many string columns).\n",
        "\n",
        "\n",
        "**Tasks**\n",
        "\n",
        "* Because the data set contains over 50,000 rows, you'll need to read the data set into dataframes using 5,000 row chunks to ensure that each chunk consumes much less than 10 megabytes of memory.\n",
        "* Across all of the chunks, become familiar with:\n",
        "1. Each column's missing value counts.\n",
        "2. Each column's memory footprint.\n",
        "3. The total memory footprint of all of the chunks combined.\n",
        "4. Which column(s) we can drop because they aren't useful for analysis.\n",
        "\n"
      ]
    },
    {
      "cell_type": "code",
      "metadata": {
        "id": "tOYoNl5qe1ow",
        "colab": {
          "base_uri": "https://localhost:8080/"
        },
        "outputId": "d59473c2-7fb2-447d-f158-d90828a697a2"
      },
      "source": [
        "# Your code goes here\n",
        "# Dataset URL = https://bit.ly/3BPcobU\n",
        "# importing the libraries\n",
        "import pandas as pd\n",
        "import csv\n",
        "import sqlite3\n",
        "\n",
        "# Reading the dataset\n",
        "for chunk in  pd.read_csv(\"crunchbase-investments.csv\", encoding='latin1', chunksize = 5000):\n",
        "  print(chunk.info(memory_usage=\"deep\"))"
      ],
      "execution_count": 18,
      "outputs": [
        {
          "output_type": "stream",
          "name": "stdout",
          "text": [
            "<class 'pandas.core.frame.DataFrame'>\n",
            "RangeIndex: 5000 entries, 0 to 4999\n",
            "Data columns (total 20 columns):\n",
            " #   Column                  Non-Null Count  Dtype  \n",
            "---  ------                  --------------  -----  \n",
            " 0   company_permalink       5000 non-null   object \n",
            " 1   company_name            5000 non-null   object \n",
            " 2   company_category_code   4948 non-null   object \n",
            " 3   company_country_code    5000 non-null   object \n",
            " 4   company_state_code      4947 non-null   object \n",
            " 5   company_region          5000 non-null   object \n",
            " 6   company_city            4936 non-null   object \n",
            " 7   investor_permalink      5000 non-null   object \n",
            " 8   investor_name           5000 non-null   object \n",
            " 9   investor_category_code  2443 non-null   object \n",
            " 10  investor_country_code   4222 non-null   object \n",
            " 11  investor_state_code     3629 non-null   object \n",
            " 12  investor_region         5000 non-null   object \n",
            " 13  investor_city           4100 non-null   object \n",
            " 14  funding_round_type      5000 non-null   object \n",
            " 15  funded_at               5000 non-null   object \n",
            " 16  funded_month            5000 non-null   object \n",
            " 17  funded_quarter          5000 non-null   object \n",
            " 18  funded_year             5000 non-null   int64  \n",
            " 19  raised_amount_usd       4347 non-null   float64\n",
            "dtypes: float64(1), int64(1), object(18)\n",
            "memory usage: 5.6 MB\n",
            "None\n",
            "<class 'pandas.core.frame.DataFrame'>\n",
            "RangeIndex: 5000 entries, 5000 to 9999\n",
            "Data columns (total 20 columns):\n",
            " #   Column                  Non-Null Count  Dtype  \n",
            "---  ------                  --------------  -----  \n",
            " 0   company_permalink       5000 non-null   object \n",
            " 1   company_name            5000 non-null   object \n",
            " 2   company_category_code   4949 non-null   object \n",
            " 3   company_country_code    5000 non-null   object \n",
            " 4   company_state_code      4957 non-null   object \n",
            " 5   company_region          5000 non-null   object \n",
            " 6   company_city            4955 non-null   object \n",
            " 7   investor_permalink      5000 non-null   object \n",
            " 8   investor_name           5000 non-null   object \n",
            " 9   investor_category_code  0 non-null      float64\n",
            " 10  investor_country_code   4739 non-null   object \n",
            " 11  investor_state_code     4286 non-null   object \n",
            " 12  investor_region         5000 non-null   object \n",
            " 13  investor_city           4687 non-null   object \n",
            " 14  funding_round_type      5000 non-null   object \n",
            " 15  funded_at               5000 non-null   object \n",
            " 16  funded_month            5000 non-null   object \n",
            " 17  funded_quarter          5000 non-null   object \n",
            " 18  funded_year             5000 non-null   int64  \n",
            " 19  raised_amount_usd       4761 non-null   float64\n",
            "dtypes: float64(2), int64(1), object(17)\n",
            "memory usage: 5.5 MB\n",
            "None\n",
            "<class 'pandas.core.frame.DataFrame'>\n",
            "RangeIndex: 5000 entries, 10000 to 14999\n",
            "Data columns (total 20 columns):\n",
            " #   Column                  Non-Null Count  Dtype  \n",
            "---  ------                  --------------  -----  \n",
            " 0   company_permalink       5000 non-null   object \n",
            " 1   company_name            5000 non-null   object \n",
            " 2   company_category_code   4918 non-null   object \n",
            " 3   company_country_code    5000 non-null   object \n",
            " 4   company_state_code      4944 non-null   object \n",
            " 5   company_region          5000 non-null   object \n",
            " 6   company_city            4956 non-null   object \n",
            " 7   investor_permalink      5000 non-null   object \n",
            " 8   investor_name           5000 non-null   object \n",
            " 9   investor_category_code  0 non-null      float64\n",
            " 10  investor_country_code   4729 non-null   object \n",
            " 11  investor_state_code     4192 non-null   object \n",
            " 12  investor_region         5000 non-null   object \n",
            " 13  investor_city           4686 non-null   object \n",
            " 14  funding_round_type      5000 non-null   object \n",
            " 15  funded_at               5000 non-null   object \n",
            " 16  funded_month            5000 non-null   object \n",
            " 17  funded_quarter          5000 non-null   object \n",
            " 18  funded_year             5000 non-null   int64  \n",
            " 19  raised_amount_usd       4779 non-null   float64\n",
            "dtypes: float64(2), int64(1), object(17)\n",
            "memory usage: 5.5 MB\n",
            "None\n",
            "<class 'pandas.core.frame.DataFrame'>\n",
            "RangeIndex: 5000 entries, 15000 to 19999\n",
            "Data columns (total 20 columns):\n",
            " #   Column                  Non-Null Count  Dtype  \n",
            "---  ------                  --------------  -----  \n",
            " 0   company_permalink       5000 non-null   object \n",
            " 1   company_name            5000 non-null   object \n",
            " 2   company_category_code   4943 non-null   object \n",
            " 3   company_country_code    5000 non-null   object \n",
            " 4   company_state_code      4964 non-null   object \n",
            " 5   company_region          5000 non-null   object \n",
            " 6   company_city            4956 non-null   object \n",
            " 7   investor_permalink      5000 non-null   object \n",
            " 8   investor_name           5000 non-null   object \n",
            " 9   investor_category_code  0 non-null      float64\n",
            " 10  investor_country_code   4761 non-null   object \n",
            " 11  investor_state_code     4286 non-null   object \n",
            " 12  investor_region         5000 non-null   object \n",
            " 13  investor_city           4726 non-null   object \n",
            " 14  funding_round_type      5000 non-null   object \n",
            " 15  funded_at               5000 non-null   object \n",
            " 16  funded_month            5000 non-null   object \n",
            " 17  funded_quarter          5000 non-null   object \n",
            " 18  funded_year             5000 non-null   int64  \n",
            " 19  raised_amount_usd       4701 non-null   float64\n",
            "dtypes: float64(2), int64(1), object(17)\n",
            "memory usage: 5.5 MB\n",
            "None\n",
            "<class 'pandas.core.frame.DataFrame'>\n",
            "RangeIndex: 5000 entries, 20000 to 24999\n",
            "Data columns (total 20 columns):\n",
            " #   Column                  Non-Null Count  Dtype  \n",
            "---  ------                  --------------  -----  \n",
            " 0   company_permalink       5000 non-null   object \n",
            " 1   company_name            5000 non-null   object \n",
            " 2   company_category_code   4931 non-null   object \n",
            " 3   company_country_code    5000 non-null   object \n",
            " 4   company_state_code      4960 non-null   object \n",
            " 5   company_region          5000 non-null   object \n",
            " 6   company_city            4959 non-null   object \n",
            " 7   investor_permalink      5000 non-null   object \n",
            " 8   investor_name           5000 non-null   object \n",
            " 9   investor_category_code  0 non-null      float64\n",
            " 10  investor_country_code   4648 non-null   object \n",
            " 11  investor_state_code     3884 non-null   object \n",
            " 12  investor_region         5000 non-null   object \n",
            " 13  investor_city           4566 non-null   object \n",
            " 14  funding_round_type      5000 non-null   object \n",
            " 15  funded_at               5000 non-null   object \n",
            " 16  funded_month            5000 non-null   object \n",
            " 17  funded_quarter          5000 non-null   object \n",
            " 18  funded_year             5000 non-null   int64  \n",
            " 19  raised_amount_usd       4757 non-null   float64\n",
            "dtypes: float64(2), int64(1), object(17)\n",
            "memory usage: 5.5 MB\n",
            "None\n",
            "<class 'pandas.core.frame.DataFrame'>\n",
            "RangeIndex: 5000 entries, 25000 to 29999\n",
            "Data columns (total 20 columns):\n",
            " #   Column                  Non-Null Count  Dtype  \n",
            "---  ------                  --------------  -----  \n",
            " 0   company_permalink       5000 non-null   object \n",
            " 1   company_name            5000 non-null   object \n",
            " 2   company_category_code   4939 non-null   object \n",
            " 3   company_country_code    5000 non-null   object \n",
            " 4   company_state_code      4961 non-null   object \n",
            " 5   company_region          5000 non-null   object \n",
            " 6   company_city            4967 non-null   object \n",
            " 7   investor_permalink      5000 non-null   object \n",
            " 8   investor_name           5000 non-null   object \n",
            " 9   investor_category_code  0 non-null      float64\n",
            " 10  investor_country_code   4782 non-null   object \n",
            " 11  investor_state_code     4268 non-null   object \n",
            " 12  investor_region         5000 non-null   object \n",
            " 13  investor_city           4762 non-null   object \n",
            " 14  funding_round_type      5000 non-null   object \n",
            " 15  funded_at               5000 non-null   object \n",
            " 16  funded_month            5000 non-null   object \n",
            " 17  funded_quarter          5000 non-null   object \n",
            " 18  funded_year             5000 non-null   int64  \n",
            " 19  raised_amount_usd       4794 non-null   float64\n",
            "dtypes: float64(2), int64(1), object(17)\n",
            "memory usage: 5.6 MB\n",
            "None\n",
            "<class 'pandas.core.frame.DataFrame'>\n",
            "RangeIndex: 5000 entries, 30000 to 34999\n",
            "Data columns (total 20 columns):\n",
            " #   Column                  Non-Null Count  Dtype  \n",
            "---  ------                  --------------  -----  \n",
            " 0   company_permalink       4999 non-null   object \n",
            " 1   company_name            4999 non-null   object \n",
            " 2   company_category_code   4912 non-null   object \n",
            " 3   company_country_code    4999 non-null   object \n",
            " 4   company_state_code      4965 non-null   object \n",
            " 5   company_region          4999 non-null   object \n",
            " 6   company_city            4958 non-null   object \n",
            " 7   investor_permalink      4998 non-null   object \n",
            " 8   investor_name           4998 non-null   object \n",
            " 9   investor_category_code  0 non-null      float64\n",
            " 10  investor_country_code   4687 non-null   object \n",
            " 11  investor_state_code     4078 non-null   object \n",
            " 12  investor_region         4998 non-null   object \n",
            " 13  investor_city           4661 non-null   object \n",
            " 14  funding_round_type      4997 non-null   object \n",
            " 15  funded_at               4997 non-null   object \n",
            " 16  funded_month            4997 non-null   object \n",
            " 17  funded_quarter          4997 non-null   object \n",
            " 18  funded_year             4997 non-null   float64\n",
            " 19  raised_amount_usd       4713 non-null   float64\n",
            "dtypes: float64(3), object(17)\n",
            "memory usage: 5.5 MB\n",
            "None\n",
            "<class 'pandas.core.frame.DataFrame'>\n",
            "RangeIndex: 5000 entries, 35000 to 39999\n",
            "Data columns (total 20 columns):\n",
            " #   Column                  Non-Null Count  Dtype  \n",
            "---  ------                  --------------  -----  \n",
            " 0   company_permalink       5000 non-null   object \n",
            " 1   company_name            5000 non-null   object \n",
            " 2   company_category_code   4917 non-null   object \n",
            " 3   company_country_code    5000 non-null   object \n",
            " 4   company_state_code      4935 non-null   object \n",
            " 5   company_region          5000 non-null   object \n",
            " 6   company_city            4945 non-null   object \n",
            " 7   investor_permalink      5000 non-null   object \n",
            " 8   investor_name           5000 non-null   object \n",
            " 9   investor_category_code  0 non-null      float64\n",
            " 10  investor_country_code   4733 non-null   object \n",
            " 11  investor_state_code     4225 non-null   object \n",
            " 12  investor_region         5000 non-null   object \n",
            " 13  investor_city           4666 non-null   object \n",
            " 14  funding_round_type      5000 non-null   object \n",
            " 15  funded_at               5000 non-null   object \n",
            " 16  funded_month            5000 non-null   object \n",
            " 17  funded_quarter          5000 non-null   object \n",
            " 18  funded_year             5000 non-null   int64  \n",
            " 19  raised_amount_usd       4632 non-null   float64\n",
            "dtypes: float64(2), int64(1), object(17)\n",
            "memory usage: 5.5 MB\n",
            "None\n",
            "<class 'pandas.core.frame.DataFrame'>\n",
            "RangeIndex: 5000 entries, 40000 to 44999\n",
            "Data columns (total 20 columns):\n",
            " #   Column                  Non-Null Count  Dtype  \n",
            "---  ------                  --------------  -----  \n",
            " 0   company_permalink       5000 non-null   object \n",
            " 1   company_name            5000 non-null   object \n",
            " 2   company_category_code   4925 non-null   object \n",
            " 3   company_country_code    5000 non-null   object \n",
            " 4   company_state_code      4950 non-null   object \n",
            " 5   company_region          5000 non-null   object \n",
            " 6   company_city            4950 non-null   object \n",
            " 7   investor_permalink      5000 non-null   object \n",
            " 8   investor_name           5000 non-null   object \n",
            " 9   investor_category_code  0 non-null      float64\n",
            " 10  investor_country_code   3568 non-null   object \n",
            " 11  investor_state_code     3213 non-null   object \n",
            " 12  investor_region         5000 non-null   object \n",
            " 13  investor_city           3536 non-null   object \n",
            " 14  funding_round_type      5000 non-null   object \n",
            " 15  funded_at               5000 non-null   object \n",
            " 16  funded_month            5000 non-null   object \n",
            " 17  funded_quarter          5000 non-null   object \n",
            " 18  funded_year             5000 non-null   int64  \n",
            " 19  raised_amount_usd       4676 non-null   float64\n",
            "dtypes: float64(2), int64(1), object(17)\n",
            "memory usage: 5.4 MB\n",
            "None\n",
            "<class 'pandas.core.frame.DataFrame'>\n",
            "RangeIndex: 5000 entries, 45000 to 49999\n",
            "Data columns (total 20 columns):\n",
            " #   Column                  Non-Null Count  Dtype  \n",
            "---  ------                  --------------  -----  \n",
            " 0   company_permalink       5000 non-null   object \n",
            " 1   company_name            5000 non-null   object \n",
            " 2   company_category_code   4985 non-null   object \n",
            " 3   company_country_code    5000 non-null   object \n",
            " 4   company_state_code      4954 non-null   object \n",
            " 5   company_region          5000 non-null   object \n",
            " 6   company_city            4930 non-null   object \n",
            " 7   investor_permalink      5000 non-null   object \n",
            " 8   investor_name           5000 non-null   object \n",
            " 9   investor_category_code  0 non-null      float64\n",
            " 10  investor_country_code   0 non-null      float64\n",
            " 11  investor_state_code     0 non-null      float64\n",
            " 12  investor_region         5000 non-null   object \n",
            " 13  investor_city           0 non-null      float64\n",
            " 14  funding_round_type      5000 non-null   object \n",
            " 15  funded_at               5000 non-null   object \n",
            " 16  funded_month            5000 non-null   object \n",
            " 17  funded_quarter          5000 non-null   object \n",
            " 18  funded_year             5000 non-null   int64  \n",
            " 19  raised_amount_usd       4531 non-null   float64\n",
            "dtypes: float64(5), int64(1), object(14)\n",
            "memory usage: 4.6 MB\n",
            "None\n",
            "<class 'pandas.core.frame.DataFrame'>\n",
            "RangeIndex: 2870 entries, 50000 to 52869\n",
            "Data columns (total 20 columns):\n",
            " #   Column                  Non-Null Count  Dtype  \n",
            "---  ------                  --------------  -----  \n",
            " 0   company_permalink       2870 non-null   object \n",
            " 1   company_name            2870 non-null   object \n",
            " 2   company_category_code   2860 non-null   object \n",
            " 3   company_country_code    2870 non-null   object \n",
            " 4   company_state_code      2841 non-null   object \n",
            " 5   company_region          2870 non-null   object \n",
            " 6   company_city            2825 non-null   object \n",
            " 7   investor_permalink      2870 non-null   object \n",
            " 8   investor_name           2870 non-null   object \n",
            " 9   investor_category_code  0 non-null      float64\n",
            " 10  investor_country_code   0 non-null      float64\n",
            " 11  investor_state_code     0 non-null      float64\n",
            " 12  investor_region         2870 non-null   object \n",
            " 13  investor_city           0 non-null      float64\n",
            " 14  funding_round_type      2870 non-null   object \n",
            " 15  funded_at               2870 non-null   object \n",
            " 16  funded_month            2870 non-null   object \n",
            " 17  funded_quarter          2870 non-null   object \n",
            " 18  funded_year             2870 non-null   int64  \n",
            " 19  raised_amount_usd       2580 non-null   float64\n",
            "dtypes: float64(5), int64(1), object(14)\n",
            "memory usage: 2.7 MB\n",
            "None\n"
          ]
        }
      ]
    },
    {
      "cell_type": "code",
      "source": [
        "# Counting missing values in the chunk\n",
        "print(\" \\nTotal count of NaN(missing values) at each column in crunchbase-investments.csv : \\n\\n\", chunk.isnull().sum())"
      ],
      "metadata": {
        "colab": {
          "base_uri": "https://localhost:8080/"
        },
        "id": "mPPL9HWOd6bO",
        "outputId": "935fd349-a56a-4b7e-f422-0d04c1ac7d35"
      },
      "execution_count": 3,
      "outputs": [
        {
          "output_type": "stream",
          "name": "stdout",
          "text": [
            " \n",
            "Total count of NaN(missing values) at each column in crunchbase-investments.csv : \n",
            "\n",
            " company_permalink            0\n",
            "company_name                 0\n",
            "company_category_code       10\n",
            "company_country_code         0\n",
            "company_state_code          29\n",
            "company_region               0\n",
            "company_city                45\n",
            "investor_permalink           0\n",
            "investor_name                0\n",
            "investor_category_code    2870\n",
            "investor_country_code     2870\n",
            "investor_state_code       2870\n",
            "investor_region              0\n",
            "investor_city             2870\n",
            "funding_round_type           0\n",
            "funded_at                    0\n",
            "funded_month                 0\n",
            "funded_quarter               0\n",
            "funded_year                  0\n",
            "raised_amount_usd          290\n",
            "dtype: int64\n"
          ]
        }
      ]
    },
    {
      "cell_type": "code",
      "source": [
        "# Finding the memory usge of each column in bytes\n",
        "chunk.memory_usage(deep=True)"
      ],
      "metadata": {
        "colab": {
          "base_uri": "https://localhost:8080/"
        },
        "id": "ObSb3oNolzTN",
        "outputId": "ae24f6d2-35b7-4d2e-f223-043ffe3d4625"
      },
      "execution_count": 4,
      "outputs": [
        {
          "output_type": "execute_result",
          "data": {
            "text/plain": [
              "Index                        132\n",
              "company_permalink         215412\n",
              "company_name              189709\n",
              "company_category_code     184581\n",
              "company_country_code      172200\n",
              "company_state_code        168547\n",
              "company_region            184997\n",
              "company_city              191495\n",
              "investor_permalink        222759\n",
              "investor_name             199818\n",
              "investor_category_code     22960\n",
              "investor_country_code      22960\n",
              "investor_state_code        22960\n",
              "investor_region           183680\n",
              "investor_city              22960\n",
              "funding_round_type        182367\n",
              "funded_at                 192290\n",
              "funded_month              183680\n",
              "funded_quarter            183680\n",
              "funded_year                22960\n",
              "raised_amount_usd          22960\n",
              "dtype: int64"
            ]
          },
          "metadata": {},
          "execution_count": 4
        }
      ]
    },
    {
      "cell_type": "code",
      "source": [
        "#Calculating the total memory usage of each columns in MB's\n",
        "for chunk in  pd.read_csv(\"crunchbase-investments.csv\", encoding='latin1', chunksize = 5000):\n",
        "  mem = (chunk.memory_usage(deep=True).sum())*0.000001\n",
        "  print(mem,\"- megabytes\")"
      ],
      "metadata": {
        "colab": {
          "base_uri": "https://localhost:8080/"
        },
        "id": "2Yrf_kR-m_7-",
        "outputId": "9bb65214-d059-409e-e7f2-ef3c1d8c58d6"
      },
      "execution_count": 5,
      "outputs": [
        {
          "output_type": "stream",
          "name": "stdout",
          "text": [
            "5.850257999999999 - megabytes\n",
            "5.796772 - megabytes\n",
            "5.803921 - megabytes\n",
            "5.796730999999999 - megabytes\n",
            "5.792688 - megabytes\n",
            "5.823191 - megabytes\n",
            "5.800132 - megabytes\n",
            "5.777296 - megabytes\n",
            "5.658243 - megabytes\n",
            "4.864866 - megabytes\n",
            "2.793107 - megabytes\n"
          ]
        }
      ]
    },
    {
      "cell_type": "code",
      "source": [
        "#placing the chunk column memory totals to a list\n",
        "total_chunk_memory_list = []\n",
        "for chunk in  pd.read_csv(\"crunchbase-investments.csv\", encoding='latin1', chunksize = 5000):\n",
        "  mem = (chunk.memory_usage(deep=True).sum())*0.000001\n",
        "  total_chunk_memory_list.append(mem)\n",
        "print(\"Chunk Memory List(in mbs):\",total_chunk_memory_list)"
      ],
      "metadata": {
        "colab": {
          "base_uri": "https://localhost:8080/"
        },
        "id": "86usj6Fun-JT",
        "outputId": "66558065-9a01-45f1-8123-1330d3c58897"
      },
      "execution_count": 6,
      "outputs": [
        {
          "output_type": "stream",
          "name": "stdout",
          "text": [
            "Chunk Memory List(in mbs): [5.850257999999999, 5.796772, 5.803921, 5.796730999999999, 5.792688, 5.823191, 5.800132, 5.777296, 5.658243, 4.864866, 2.793107]\n"
          ]
        }
      ]
    },
    {
      "cell_type": "code",
      "source": [
        "#getting the total chunk memory\n",
        "total_chunk_memory = sum(total_chunk_memory_list)\n",
        "print(\"TOTAL MEMORY(in mbs):\",total_chunk_memory)"
      ],
      "metadata": {
        "colab": {
          "base_uri": "https://localhost:8080/"
        },
        "id": "c-zUjt5FzTgy",
        "outputId": "cdf7f6dd-eb67-43f3-b623-ddaf9173be7b"
      },
      "execution_count": 7,
      "outputs": [
        {
          "output_type": "stream",
          "name": "stdout",
          "text": [
            "TOTAL MEMORY(in mbs): 59.75720499999999\n"
          ]
        }
      ]
    },
    {
      "cell_type": "code",
      "source": [
        "# dropping columns that have missing data.\n",
        "crunch = pd.read_csv(\"crunchbase-investments.csv\", encoding='latin1')\n",
        "crunch.drop(['investor_category_code', 'investor_country_code','investor_state_code', 'investor_city','raised_amount_usd','company_city','company_state_code','company_category_code',], axis = 1, inplace = True)\n",
        "for col in crunch.columns:\n",
        "    print(col)"
      ],
      "metadata": {
        "colab": {
          "base_uri": "https://localhost:8080/"
        },
        "id": "ZWcA2aV85STp",
        "outputId": "a958e85f-e0f7-4c72-eda2-2ce51a736f82"
      },
      "execution_count": 8,
      "outputs": [
        {
          "output_type": "stream",
          "name": "stdout",
          "text": [
            "company_permalink\n",
            "company_name\n",
            "company_country_code\n",
            "company_region\n",
            "investor_permalink\n",
            "investor_name\n",
            "investor_region\n",
            "funding_round_type\n",
            "funded_at\n",
            "funded_month\n",
            "funded_quarter\n",
            "funded_year\n"
          ]
        },
        {
          "output_type": "stream",
          "name": "stderr",
          "text": [
            "/usr/local/lib/python3.8/dist-packages/IPython/core/interactiveshell.py:3326: DtypeWarning: Columns (9) have mixed types.Specify dtype option on import or set low_memory=False.\n",
            "  exec(code_obj, self.user_global_ns, self.user_ns)\n"
          ]
        }
      ]
    },
    {
      "cell_type": "markdown",
      "metadata": {
        "id": "NOEk3_YPdg6p"
      },
      "source": [
        "## Question 2: Selecting Data Types"
      ]
    },
    {
      "cell_type": "markdown",
      "metadata": {
        "id": "FD1IqmzhcEd3"
      },
      "source": [
        "Now that we have a good sense of the missing values, let's get familiar with the column types before adding the data into SQLite.\n",
        "\n",
        "**Tasks**\n",
        "\n",
        "* Identify the types for each column.\n",
        "* Identify the numeric columns we can represent using more space efficient types.\n",
        "For text columns:\n",
        "* Analyze the unique value counts across all of the chunks to see if we can convert them to a numeric type.\n",
        "* See if we clean clean any text columns and separate them into multiple numeric columns without adding any overhead when querying.\n",
        "* Make your changes to the code from the last step so that the overall memory the data consumes stays under 10 megabytes.\n"
      ]
    },
    {
      "cell_type": "code",
      "metadata": {
        "id": "QNgzuiStZ3WN",
        "colab": {
          "base_uri": "https://localhost:8080/"
        },
        "outputId": "5c0e504c-a0a5-45a6-b6b3-1a867ac6c9f5"
      },
      "source": [
        "# Your code goes here\n",
        "#Getting to know the datatype of the columns and memry usage.\n",
        "print(crunch.info(memory_usage=\"deep\"))"
      ],
      "execution_count": 9,
      "outputs": [
        {
          "output_type": "stream",
          "name": "stdout",
          "text": [
            "<class 'pandas.core.frame.DataFrame'>\n",
            "RangeIndex: 52870 entries, 0 to 52869\n",
            "Data columns (total 12 columns):\n",
            " #   Column                Non-Null Count  Dtype  \n",
            "---  ------                --------------  -----  \n",
            " 0   company_permalink     52869 non-null  object \n",
            " 1   company_name          52869 non-null  object \n",
            " 2   company_country_code  52869 non-null  object \n",
            " 3   company_region        52869 non-null  object \n",
            " 4   investor_permalink    52868 non-null  object \n",
            " 5   investor_name         52868 non-null  object \n",
            " 6   investor_region       52868 non-null  object \n",
            " 7   funding_round_type    52867 non-null  object \n",
            " 8   funded_at             52867 non-null  object \n",
            " 9   funded_month          52867 non-null  object \n",
            " 10  funded_quarter        52867 non-null  object \n",
            " 11  funded_year           52867 non-null  float64\n",
            "dtypes: float64(1), object(11)\n",
            "memory usage: 38.8 MB\n",
            "None\n"
          ]
        }
      ]
    },
    {
      "cell_type": "code",
      "source": [
        "crunch.dtypes"
      ],
      "metadata": {
        "colab": {
          "base_uri": "https://localhost:8080/"
        },
        "id": "gsrljDek5jfF",
        "outputId": "a1d99b2e-7f31-4ac5-e0df-d5b49f01d43a"
      },
      "execution_count": 10,
      "outputs": [
        {
          "output_type": "execute_result",
          "data": {
            "text/plain": [
              "company_permalink        object\n",
              "company_name             object\n",
              "company_country_code     object\n",
              "company_region           object\n",
              "investor_permalink       object\n",
              "investor_name            object\n",
              "investor_region          object\n",
              "funding_round_type       object\n",
              "funded_at                object\n",
              "funded_month             object\n",
              "funded_quarter           object\n",
              "funded_year             float64\n",
              "dtype: object"
            ]
          },
          "metadata": {},
          "execution_count": 10
        }
      ]
    },
    {
      "cell_type": "code",
      "source": [
        "# Getting the columns with numerics\n",
        "numerics = ['int16', 'int32', 'int64', 'float16', 'float32', 'float64','complex']\n",
        "\n",
        "crunch_numeric = crunch.select_dtypes(include=numerics)\n",
        "print(\"Columns that have numeric types:\",crunch_numeric.columns.tolist())"
      ],
      "metadata": {
        "colab": {
          "base_uri": "https://localhost:8080/"
        },
        "id": "64bDjAyA6kKW",
        "outputId": "4f29c02a-0982-4007-af25-7a972496b8f6"
      },
      "execution_count": 11,
      "outputs": [
        {
          "output_type": "stream",
          "name": "stdout",
          "text": [
            "Columns that have numeric types: ['funded_year']\n"
          ]
        }
      ]
    },
    {
      "cell_type": "code",
      "source": [
        "# Analyze the unique value counts across all of the chunks to see if we can convert them to a numeric type.\n",
        "# See if we clean clean any text columns and separate them into multiple numeric columns without adding any overhead when querying.\n",
        "# Make your changes to the code from the last step so that the overall memory the data consumes stays under 10 megabytes.\n",
        "\n",
        "crunch = pd.read_csv(\"crunchbase-investments.csv\", encoding='latin1', chunksize = 5000)\n",
        "for unique in crunch:\n",
        "  print(unique.value_counts())"
      ],
      "metadata": {
        "colab": {
          "base_uri": "https://localhost:8080/"
        },
        "id": "JJn9opX7BLQz",
        "outputId": "49222627-bcfe-4c34-c0f1-d0e93f6eb7d9"
      },
      "execution_count": 12,
      "outputs": [
        {
          "output_type": "stream",
          "name": "stdout",
          "text": [
            "company_permalink                           company_name                       company_category_code  company_country_code  company_state_code  company_region  company_city   investor_permalink                 investor_name             investor_category_code  investor_country_code  investor_state_code  investor_region  investor_city  funding_round_type  funded_at   funded_month  funded_quarter  funded_year  raised_amount_usd\n",
            "/company/massachusetts-clean-energy-center  Massachusetts Clean Energy Center  cleantech              USA                   MA                  Boston          Boston         /company/north-shore-innoventures  North Shore InnoVentures  biotech                 USA                    MA                   Boston           Beverly        angel               2013-09-05  2013-09       2013-Q3         2013         300000.0             2\n",
            "/company/1000memories                       1000memories                       web                    USA                   CA                  SF Bay          San Francisco  /company/y-combinator              Y Combinator              finance                 USA                    CA                   SF Bay           Mountain View  angel               2010-01-01  2010-01       2010-Q1         2010         15000.0              1\n",
            "/company/posterous                          Posterous                          web                    USA                   CA                  SF Bay          San Francisco  /company/y-combinator              Y Combinator              finance                 USA                    CA                   SF Bay           Mountain View  angel               2008-05-01  2008-05       2008-Q2         2008         15000.0              1\n",
            "/company/priceonomics                       Priceonomics                       web                    USA                   CA                  SF Bay          San Francisco  /company/y-combinator              Y Combinator              finance                 USA                    CA                   SF Bay           Mountain View  angel               2011-12-01  2011-12       2011-Q4         2011         20000.0              1\n",
            "/company/pressgram                          Pressgram                          photo_video            USA                   GA                  Atlanta         Atlanta        /company/kickstarter               Kickstarter               finance                 USA                    NY                   New York         New York       crowdfunding        2013-04-15  2013-04       2013-Q2         2013         56500.0              1\n",
            "                                                                                                                                                                                                                                                                                                                                                                                                                                               ..\n",
            "/company/flashstarts                        FlashStarts                        software               USA                   OH                  Cleveland       Cleveland      /company/flashstarts               FlashStarts               software                USA                    OH                   Cleveland        Cleveland      angel               2013-06-01  2013-06       2013-Q2         2013         14000.0              1\n",
            "/company/fivestars                          FiveStars Loyalty                  advertising            USA                   CA                  SF Bay          San Francisco  /company/y-combinator              Y Combinator              finance                 USA                    CA                   SF Bay           Mountain View  angel               2011-01-01  2011-01       2011-Q1         2011         150000.0             1\n",
            "/company/fitnesskeeper                      FitnessKeeper                      health                 USA                   MA                  Boston          Boston         /company/revolution                Revolution LLC            other                   USA                    DC                   Washington DC    Washington     series-b            2011-11-21  2011-11       2011-Q4         2011         10000000.0           1\n",
            "/company/fisker                             Fisker Automotive                  automotive             USA                   CA                  Los Angeles     Irvine         /company/a123systems               A123 Systems              nanotech                USA                    MA                   Boston           Watertown      venture             2011-02-22  2011-02       2011-Q1         2011         150000000.0          1\n",
            "/company/zynga                              Zynga                              games_video            USA                   CA                  SF Bay          San Francisco  /company/google                    Google                    search                  USA                    CA                   SF Bay           Mountain View  series-b            2010-06-14  2010-06       2010-Q2         2010         300000000.0          1\n",
            "Length: 1577, dtype: int64\n",
            "Series([], dtype: int64)\n",
            "Series([], dtype: int64)\n",
            "Series([], dtype: int64)\n",
            "Series([], dtype: int64)\n",
            "Series([], dtype: int64)\n",
            "Series([], dtype: int64)\n",
            "Series([], dtype: int64)\n",
            "Series([], dtype: int64)\n",
            "Series([], dtype: int64)\n",
            "Series([], dtype: int64)\n"
          ]
        }
      ]
    },
    {
      "cell_type": "code",
      "source": [
        "# from the above data l have not found any column l can change to numeric.\n"
      ],
      "metadata": {
        "id": "iUs1z6ng3_e7"
      },
      "execution_count": null,
      "outputs": []
    },
    {
      "cell_type": "markdown",
      "metadata": {
        "id": "OA2D7o4sds1t"
      },
      "source": [
        "## Question 3: Loading Chunks Into SQLite"
      ]
    },
    {
      "cell_type": "markdown",
      "metadata": {
        "id": "ptu8Xr25dvcF"
      },
      "source": [
        "Now we're in good shape to start exploring and analyzing the data. The next step is to load each chunk into a table in a SQLite database so we can query the full data set.\n",
        "\n",
        "**Tasks**\n",
        "\n",
        "1. Create and connect to a new SQLite database file.\n",
        "2. Expand on the existing chunk processing code to export each chunk to a new table in the SQLite database.\n",
        "3. Query the table and make sure the data types match up to what you had in mind for each column."
      ]
    },
    {
      "cell_type": "code",
      "metadata": {
        "id": "QH-j6fuXdu0v",
        "colab": {
          "base_uri": "https://localhost:8080/"
        },
        "outputId": "eda9e1cc-603b-4d0f-9f8d-83e6fc45c669"
      },
      "source": [
        "# Your code goes here\n",
        "\n",
        "conn = sqlite3.connect('crunch')\n",
        "crunch = pd.read_csv(\"crunchbase-investments.csv\", encoding='latin1', chunksize = 5000)\n",
        "for chunk in crunch:\n",
        "    chunk.to_sql(\"funding\", conn, if_exists='append', index=False)\n",
        "    df = pd.read_sql('PRAGMA table_info(funding);', conn)\n",
        "print(df)"
      ],
      "execution_count": 29,
      "outputs": [
        {
          "output_type": "stream",
          "name": "stdout",
          "text": [
            "    cid                    name     type  notnull dflt_value  pk\n",
            "0     0       company_permalink     TEXT        0       None   0\n",
            "1     1            company_name     TEXT        0       None   0\n",
            "2     2   company_category_code     TEXT        0       None   0\n",
            "3     3    company_country_code     TEXT        0       None   0\n",
            "4     4      company_state_code     TEXT        0       None   0\n",
            "5     5          company_region     TEXT        0       None   0\n",
            "6     6            company_city     TEXT        0       None   0\n",
            "7     7      investor_permalink     TEXT        0       None   0\n",
            "8     8           investor_name     TEXT        0       None   0\n",
            "9     9  investor_category_code     TEXT        0       None   0\n",
            "10   10   investor_country_code     TEXT        0       None   0\n",
            "11   11     investor_state_code     TEXT        0       None   0\n",
            "12   12         investor_region     TEXT        0       None   0\n",
            "13   13           investor_city     TEXT        0       None   0\n",
            "14   14      funding_round_type     TEXT        0       None   0\n",
            "15   15               funded_at     TEXT        0       None   0\n",
            "16   16            funded_month     TEXT        0       None   0\n",
            "17   17          funded_quarter     TEXT        0       None   0\n",
            "18   18             funded_year  INTEGER        0       None   0\n",
            "19   19       raised_amount_usd     REAL        0       None   0\n"
          ]
        }
      ]
    },
    {
      "cell_type": "markdown",
      "metadata": {
        "id": "Rt1jPEhseD8r"
      },
      "source": [
        "## Question 4: Next Steps"
      ]
    },
    {
      "cell_type": "markdown",
      "metadata": {
        "id": "Ggt-hEebeJGr"
      },
      "source": [
        "Now that the data is in SQLite, we can use the pandas SQLite workflow we learned in the last lesson to explore and analyze startup investments. Remember that each row isn't a unique company, but a unique investment from a single investor. This means that many startups will span multiple rows.\n",
        "\n",
        "Use the pandas SQLite workflow to answer the following questions:\n",
        "\n",
        "* What proportion of the total amount of funds did the top 10% raise? What about the top 1%? Compare these values to the proportions the bottom 10% and bottom 1% raised.\n",
        "* Which category of company attracted the most investments?\n",
        "* Which investor contributed the most money (across all startups)?\n",
        "* Which investors contributed the most money per startup?\n",
        "* Which funding round was the most popular? Which was the least popular?\n",
        "\n",
        "Here are some ideas for further exploration:\n",
        "\n",
        "* Repeat the tasks in this project using stricter memory constraints (under 1 megabyte).\n",
        "* Clean and analyze the other Crunchbase data sets from the same GitHub repo.\n",
        "* Understand which columns the data sets share, and how the data sets are linked.\n",
        "* Create a relational database design that links the data sets together and reduces the overall disk space the database file consumes.\n",
        "\n",
        "Use pandas to populate each table in the database, create the appropriate indexes, and so on."
      ]
    },
    {
      "cell_type": "code",
      "metadata": {
        "id": "FJo2f7N-ebgX",
        "colab": {
          "base_uri": "https://localhost:8080/"
        },
        "outputId": "2431939f-a95e-4ce4-862f-c60a0aa56bac"
      },
      "source": [
        "# Your code goes here\n",
        "# Read sqlite query results into a pandas DataFrame\n",
        "crunch = pd.read_csv(\"crunchbase-investments.csv\", encoding='latin1', chunksize = 5000)\n",
        "con = sqlite3.connect(\"crunch\")\n",
        "\n",
        "df = pd.read_sql_query(\"SELECT * from funding\", con)\n",
        "\n",
        "# Verify that result of SQL query is stored in the dataframe\n",
        "print(df.head())\n",
        "\n",
        "con.close()"
      ],
      "execution_count": 31,
      "outputs": [
        {
          "output_type": "stream",
          "name": "stdout",
          "text": [
            "     company_permalink company_name company_category_code  \\\n",
            "0    /company/advercar     AdverCar           advertising   \n",
            "1  /company/launchgram   LaunchGram                  news   \n",
            "2        /company/utap         uTaP             messaging   \n",
            "3    /company/zoopshop     ZoopShop              software   \n",
            "4    /company/efuneral     eFuneral                   web   \n",
            "\n",
            "  company_country_code company_state_code         company_region  \\\n",
            "0                  USA                 CA                 SF Bay   \n",
            "1                  USA                 CA                 SF Bay   \n",
            "2                  USA               None  United States - Other   \n",
            "3                  USA                 OH               Columbus   \n",
            "4                  USA                 OH              Cleveland   \n",
            "\n",
            "    company_city          investor_permalink      investor_name  \\\n",
            "0  San Francisco  /company/1-800-flowers-com  1-800-FLOWERS.COM   \n",
            "1  Mountain View        /company/10xelerator        10Xelerator   \n",
            "2           None        /company/10xelerator        10Xelerator   \n",
            "3       columbus        /company/10xelerator        10Xelerator   \n",
            "4      Cleveland        /company/10xelerator        10Xelerator   \n",
            "\n",
            "  investor_category_code investor_country_code investor_state_code  \\\n",
            "0                   None                   USA                  NY   \n",
            "1                finance                   USA                  OH   \n",
            "2                finance                   USA                  OH   \n",
            "3                finance                   USA                  OH   \n",
            "4                finance                   USA                  OH   \n",
            "\n",
            "  investor_region investor_city funding_round_type   funded_at funded_month  \\\n",
            "0        New York      New York           series-a  2012-10-30      2012-10   \n",
            "1        Columbus      Columbus              other  2012-01-23      2012-01   \n",
            "2        Columbus      Columbus              other  2012-01-01      2012-01   \n",
            "3        Columbus      Columbus              angel  2012-02-15      2012-02   \n",
            "4        Columbus      Columbus              other  2011-09-08      2011-09   \n",
            "\n",
            "  funded_quarter  funded_year  raised_amount_usd  \n",
            "0        2012-Q4       2012.0          2000000.0  \n",
            "1        2012-Q1       2012.0            20000.0  \n",
            "2        2012-Q1       2012.0            20000.0  \n",
            "3        2012-Q1       2012.0            20000.0  \n",
            "4        2011-Q3       2011.0            20000.0  \n"
          ]
        }
      ]
    },
    {
      "cell_type": "code",
      "source": [
        "# What proportion of the total amount of funds did the top 10% raise? What about the top 1%? Compare these values to the proportions the bottom 10% and bottom 1% raised.\n",
        "raised = 'select raised_amount_usd, count(*) as counts from funding group by raised_amount_usd  order by counts desc;'\n",
        "percent = pd.read_sql(raised, conn)\n",
        "print(percent[:10])"
      ],
      "metadata": {
        "colab": {
          "base_uri": "https://localhost:8080/"
        },
        "id": "-Q1Toiy9ftLt",
        "outputId": "2db11f61-54b9-41c2-f92a-2087f9ff27fa"
      },
      "execution_count": 61,
      "outputs": [
        {
          "output_type": "stream",
          "name": "stdout",
          "text": [
            "   raised_amount_usd  counts\n",
            "0                NaN   10797\n",
            "1         10000000.0    6201\n",
            "2          1000000.0    5280\n",
            "3          5000000.0    4767\n",
            "4         15000000.0    4260\n",
            "5         20000000.0    3936\n",
            "6          2000000.0    3759\n",
            "7          1500000.0    3741\n",
            "8          3000000.0    3612\n",
            "9          6000000.0    3444\n"
          ]
        }
      ]
    },
    {
      "cell_type": "code",
      "source": [
        "raised = 'select raised_amount_usd, count(*) as counts from funding group by raised_amount_usd  order by counts asc;'\n",
        "percent = pd.read_sql(raised, conn)\n",
        "print(percent[:10])"
      ],
      "metadata": {
        "colab": {
          "base_uri": "https://localhost:8080/"
        },
        "id": "cn4OVj6dgv8e",
        "outputId": "d44dc539-917b-488e-efcd-bae580daa812"
      },
      "execution_count": 40,
      "outputs": [
        {
          "output_type": "stream",
          "name": "stdout",
          "text": [
            "   raised_amount_usd  counts\n",
            "0             2100.0       3\n",
            "1             5500.0       3\n",
            "2             5600.0       3\n",
            "3             6000.0       3\n",
            "4             8300.0       3\n",
            "5            11600.0       3\n",
            "6            11800.0       3\n",
            "7            13200.0       3\n",
            "8            15282.0       3\n",
            "9            16500.0       3\n"
          ]
        }
      ]
    },
    {
      "cell_type": "code",
      "source": [
        "# Which category of company attracted the most investments?\n",
        "raised = 'select company_category_code, count(*) as counts from funding group by raised_amount_usd  order by counts desc;'\n",
        "percent = pd.read_sql(raised, conn)\n",
        "print(percent[:1])"
      ],
      "metadata": {
        "colab": {
          "base_uri": "https://localhost:8080/"
        },
        "id": "cf-FeUF1juEG",
        "outputId": "5d2ad4dd-9659-4c0e-e262-1c21ea980af5"
      },
      "execution_count": 62,
      "outputs": [
        {
          "output_type": "stream",
          "name": "stdout",
          "text": [
            "  company_category_code  counts\n",
            "0             ecommerce   10797\n"
          ]
        }
      ]
    },
    {
      "cell_type": "code",
      "source": [
        "# Which investor contributed the most money (across all startups)?\n",
        "raised = 'select investor_name, count(*) as counts from funding group by raised_amount_usd and company_name order by counts desc;'\n",
        "percent = pd.read_sql(raised, conn)\n",
        "print(percent[:1])"
      ],
      "metadata": {
        "colab": {
          "base_uri": "https://localhost:8080/"
        },
        "id": "gj0m2FUck1N5",
        "outputId": "be97dc93-5dca-4d9a-b33e-36b61f8fb141"
      },
      "execution_count": 45,
      "outputs": [
        {
          "output_type": "stream",
          "name": "stdout",
          "text": [
            "  investor_name  counts\n",
            "0  Zorik Gordon  157584\n"
          ]
        }
      ]
    },
    {
      "cell_type": "code",
      "source": [
        "# Which investors contributed the most money per startup?\n",
        "raised = 'select investor_name,raised_amount_usd , count(*) as counts from funding group by raised_amount_usd order by raised_amount_usd  desc;'\n",
        "percent = pd.read_sql(raised, conn)\n",
        "print(percent[:1])"
      ],
      "metadata": {
        "colab": {
          "base_uri": "https://localhost:8080/"
        },
        "id": "SUkv_zQpsuZi",
        "outputId": "054c1b0d-7002-4c16-9c44-a08afb1f8c71"
      },
      "execution_count": 68,
      "outputs": [
        {
          "output_type": "stream",
          "name": "stdout",
          "text": [
            "  investor_name  raised_amount_usd  counts\n",
            "0   Time Warner       3.200000e+09      15\n"
          ]
        }
      ]
    },
    {
      "cell_type": "code",
      "source": [
        "# Which funding round was the most popular? \n",
        "raised = 'select funding_round_type , count(*) as counts from funding group by funding_round_type order by counts desc;'\n",
        "percent = pd.read_sql(raised, conn)\n",
        "print(percent[:1])"
      ],
      "metadata": {
        "colab": {
          "base_uri": "https://localhost:8080/"
        },
        "id": "gegUeYqTt2bl",
        "outputId": "3196f51e-5fde-488c-ab65-de160570181e"
      },
      "execution_count": 73,
      "outputs": [
        {
          "output_type": "stream",
          "name": "stdout",
          "text": [
            "  funding_round_type  counts\n",
            "0           series-a   41814\n"
          ]
        }
      ]
    },
    {
      "cell_type": "code",
      "source": [
        "# Which was the least popular?\n",
        "raised = 'select funding_round_type , count(*) as counts from funding group by funding_round_type order by counts asc;'\n",
        "percent = pd.read_sql(raised, conn)\n",
        "print(percent[:1])"
      ],
      "metadata": {
        "colab": {
          "base_uri": "https://localhost:8080/"
        },
        "id": "y5B2XnK-ucBp",
        "outputId": "e6a72cdb-8f6b-4540-fcbe-ccdc6c60192f"
      },
      "execution_count": 76,
      "outputs": [
        {
          "output_type": "stream",
          "name": "stdout",
          "text": [
            "  funding_round_type  counts\n",
            "0               None       9\n"
          ]
        }
      ]
    }
  ]
}